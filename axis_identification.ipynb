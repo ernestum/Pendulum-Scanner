{
 "cells": [
  {
   "cell_type": "markdown",
   "metadata": {},
   "source": [
    "This notebooks does a least-squares fit of the calibration data do determine the factors `m` and `c` such that `angle = m * raw + c`. Where the angle is in radians and `raw` is what we read using `analogRead()` on the corresponding potentiometer on an Arduino (in this case a 12 bit ADC)."
   ]
  },
  {
   "cell_type": "code",
   "execution_count": null,
   "metadata": {},
   "outputs": [],
   "source": [
    "import numpy as np\n",
    "\n",
    "# Colum 1: measured value from 12 bit DAC (0 - 4095)\n",
    "# Colum 2: actual angle in radians as determined by the PixelCollector\n",
    "data = np.loadtxt('PixelCollector/data/calib_phi.csv', skiprows=1, delimiter=',')\n",
    "# data = np.loadtxt('PixelCollector/data/calib_theta.csv', skiprows=1, delimiter=',')"
   ]
  },
  {
   "cell_type": "code",
   "execution_count": null,
   "metadata": {},
   "outputs": [],
   "source": [
    "# Plot the data to get a first impression\n",
    "\n",
    "import matplotlib.pyplot as plt\n",
    "\n",
    "plt.scatter(data[:,0], data[:,1], s=1)\n",
    "plt.grid()\n",
    "plt.show()"
   ]
  },
  {
   "cell_type": "code",
   "execution_count": null,
   "metadata": {},
   "outputs": [],
   "source": [
    "# Select the interesting points and plot them in red \n",
    "\n",
    "selection = (data[:,0] > 35) & (data[:,0] < 4050)  # for phi\n",
    "# selection = np.abs(data[:,1]) < 0.05  # for theta\n",
    "\n",
    "\n",
    "# Plot scatterplot of selection and remainder\n",
    "plt.scatter(data[selection,0], data[selection,1], s=2, color='red')\n",
    "plt.scatter(data[~selection,0], data[~selection,1], s=0.5, color='grey')\n",
    "\n",
    "plt.show()"
   ]
  },
  {
   "cell_type": "code",
   "execution_count": null,
   "metadata": {},
   "outputs": [],
   "source": [
    "# Do least-squares fit to the selection\n",
    "\n",
    "selected_data = data[selection]\n",
    "A = np.vstack([selected_data[:,0], np.ones(selected_data.shape[0])]).T\n",
    "m, c = np.linalg.lstsq(A, selected_data[:,1], rcond=None)[0]\n",
    "\n",
    "print(f'Fit: y = {m:.10f}*x + {c:.10f}')\n",
    "print(f'float fit_m = {m:.10f};')\n",
    "print(f'float fit_c = {c:.10f};')\n"
   ]
  },
  {
   "cell_type": "code",
   "execution_count": null,
   "metadata": {},
   "outputs": [],
   "source": [
    "# Plot scatterplot of selection and remainder and the fitting line\n",
    "\n",
    "plt.scatter(data[selection, 0], data[selection, 1], s=1, color='red')\n",
    "plt.scatter(data[~selection, 0], data[~selection, 1], s=1, color='grey')\n",
    "\n",
    "# Plot the fitting line\n",
    "x_fit = np.linspace(min(data[:, 0]), max(data[:, 0]), 2)\n",
    "y_fit = m * x_fit + c\n",
    "plt.plot(x_fit, y_fit, color='green', label='Fitting line')\n",
    "\n",
    "plt.title('Calibration data with fitting line')\n",
    "plt.legend()\n",
    "plt.grid()\n",
    "plt.show()"
   ]
  }
 ],
 "metadata": {
  "kernelspec": {
   "display_name": "venv",
   "language": "python",
   "name": "python3"
  },
  "language_info": {
   "codemirror_mode": {
    "name": "ipython",
    "version": 3
   },
   "file_extension": ".py",
   "mimetype": "text/x-python",
   "name": "python",
   "nbconvert_exporter": "python",
   "pygments_lexer": "ipython3",
   "version": "3.10.14"
  }
 },
 "nbformat": 4,
 "nbformat_minor": 2
}
