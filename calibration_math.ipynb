{
 "cells": [
  {
   "cell_type": "markdown",
   "metadata": {},
   "source": [
    "We use a Playstation Game Track to track the position of a light sensor attached to the end of a string.\n",
    "The position of the end of the string is determined by measuring the two angles of the string and how much it has been wound up.\n",
    "The angles are measured by two potentiometers, and the winding is measured by a third potentiometer.\n",
    "\n",
    "We measure the resistances of the potentiometers, from there we deduce the angles in radians and the winding in meters.\n",
    "From that we can deduce the position of the end of the string in cartesian coordinates.\n",
    "\n",
    "To determine the correct mapping from resistance to angle/winding, we have a calibration procedure that involves a number of measurements at known positions in cartesian coordinates.\n",
    "A least squares fit is then used to determine the mapping."
   ]
  },
  {
   "cell_type": "code",
   "execution_count": null,
   "metadata": {},
   "outputs": [],
   "source": [
    "import sympy as sp\n",
    "\n",
    "phi_scale, theta_scale = sp.symbols('phi_scale theta_scale')\n",
    "\n",
    "# Define the known measured values and known cartesian coordinates\n",
    "calibration_points = [\n",
    "    sp.symbols(f'phiM_{i} thetaM_{i} w_{i} x_{i} y_{i} z_{i}') for i in range(4)\n",
    "]\n",
    "\n",
    "# Set up the equations\n",
    "equations = []\n",
    "for phi_m, theta_m, winding_m, x_known, y_known, z_known in calibration_points:\n",
    "    equations.append(sp.Eq(sp.sin(phi_m * phi_scale) * sp.cos(theta_m * theta_scale) * winding_m, x_known))\n",
    "    equations.append(sp.Eq(sp.sin(theta_m * theta_scale) * sp.sin(phi_m * phi_scale) * winding_m, y_known))\n",
    "    equations.append(sp.Eq(sp.cos(phi_m * phi_scale) * winding_m, z_known))\n",
    "\n",
    "# Solve the equations\n",
    "print('Solving equations...')\n",
    "solution = sp.solve(equations, phi_scale, theta_scale, dict=True)\n",
    "solution"
   ]
  },
  {
   "cell_type": "code",
   "execution_count": null,
   "metadata": {},
   "outputs": [],
   "source": [
    "for var, exp in solution[0].items():\n",
    "    print(f'{var} = {sp.ccode(exp)};')"
   ]
  },
  {
   "cell_type": "code",
   "execution_count": null,
   "metadata": {},
   "outputs": [],
   "source": [
    "from math import *\n",
    "print(tan(53/87.))\n",
    "print(tan(55/87.))"
   ]
  }
 ],
 "metadata": {
  "kernelspec": {
   "display_name": "venv",
   "language": "python",
   "name": "python3"
  },
  "language_info": {
   "codemirror_mode": {
    "name": "ipython",
    "version": 3
   },
   "file_extension": ".py",
   "mimetype": "text/x-python",
   "name": "python",
   "nbconvert_exporter": "python",
   "pygments_lexer": "ipython3",
   "version": "3.10.14"
  }
 },
 "nbformat": 4,
 "nbformat_minor": 2
}
